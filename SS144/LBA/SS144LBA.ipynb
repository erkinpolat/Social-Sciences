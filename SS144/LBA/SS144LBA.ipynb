{
  "nbformat": 4,
  "nbformat_minor": 0,
  "metadata": {
    "colab": {
      "name": "SS144LBA",
      "provenance": [],
      "collapsed_sections": []
    },
    "kernelspec": {
      "name": "python3",
      "display_name": "Python 3"
    }
  },
  "cells": [
    {
      "cell_type": "markdown",
      "metadata": {
        "id": "-XxvTdMrItQD"
      },
      "source": [
        "## SS144 LBA Code"
      ]
    },
    {
      "cell_type": "code",
      "metadata": {
        "id": "Sai6m7SaoGAc"
      },
      "source": [
        "#importing the packages\n",
        "import numpy as np\n",
        "import pandas as pd\n",
        "import matplotlib.pyplot as plt\n",
        "from datetime import datetime\n",
        "from scipy import stats"
      ],
      "execution_count": null,
      "outputs": []
    },
    {
      "cell_type": "code",
      "metadata": {
        "id": "vsthluFjoNMa"
      },
      "source": [
        "#Reading the unemployment data\n",
        "unemployment = pd.read_csv('series-071020.csv')"
      ],
      "execution_count": null,
      "outputs": []
    },
    {
      "cell_type": "code",
      "metadata": {
        "id": "39yeHX8Modxn",
        "outputId": "f6c50ab4-c5c1-4dbc-d109-1d26b1eed042",
        "colab": {
          "base_uri": "https://localhost:8080/",
          "height": 419
        }
      },
      "source": [
        "#An overview of the data\n",
        "unemployment"
      ],
      "execution_count": null,
      "outputs": [
        {
          "output_type": "execute_result",
          "data": {
            "text/html": [
              "<div>\n",
              "<style scoped>\n",
              "    .dataframe tbody tr th:only-of-type {\n",
              "        vertical-align: middle;\n",
              "    }\n",
              "\n",
              "    .dataframe tbody tr th {\n",
              "        vertical-align: top;\n",
              "    }\n",
              "\n",
              "    .dataframe thead th {\n",
              "        text-align: right;\n",
              "    }\n",
              "</style>\n",
              "<table border=\"1\" class=\"dataframe\">\n",
              "  <thead>\n",
              "    <tr style=\"text-align: right;\">\n",
              "      <th></th>\n",
              "      <th>Title</th>\n",
              "      <th>Unemployment rate (aged 16 and over, seasonally adjusted)</th>\n",
              "    </tr>\n",
              "  </thead>\n",
              "  <tbody>\n",
              "    <tr>\n",
              "      <th>0</th>\n",
              "      <td>1971 FEB</td>\n",
              "      <td>3.8</td>\n",
              "    </tr>\n",
              "    <tr>\n",
              "      <th>1</th>\n",
              "      <td>1971 MAR</td>\n",
              "      <td>3.9</td>\n",
              "    </tr>\n",
              "    <tr>\n",
              "      <th>2</th>\n",
              "      <td>1971 APR</td>\n",
              "      <td>4.0</td>\n",
              "    </tr>\n",
              "    <tr>\n",
              "      <th>3</th>\n",
              "      <td>1971 MAY</td>\n",
              "      <td>4.1</td>\n",
              "    </tr>\n",
              "    <tr>\n",
              "      <th>4</th>\n",
              "      <td>1971 JUN</td>\n",
              "      <td>4.1</td>\n",
              "    </tr>\n",
              "    <tr>\n",
              "      <th>...</th>\n",
              "      <td>...</td>\n",
              "      <td>...</td>\n",
              "    </tr>\n",
              "    <tr>\n",
              "      <th>588</th>\n",
              "      <td>2020 FEB</td>\n",
              "      <td>3.9</td>\n",
              "    </tr>\n",
              "    <tr>\n",
              "      <th>589</th>\n",
              "      <td>2020 MAR</td>\n",
              "      <td>3.9</td>\n",
              "    </tr>\n",
              "    <tr>\n",
              "      <th>590</th>\n",
              "      <td>2020 APR</td>\n",
              "      <td>3.9</td>\n",
              "    </tr>\n",
              "    <tr>\n",
              "      <th>591</th>\n",
              "      <td>2020 MAY</td>\n",
              "      <td>3.9</td>\n",
              "    </tr>\n",
              "    <tr>\n",
              "      <th>592</th>\n",
              "      <td>2020 JUN</td>\n",
              "      <td>4.1</td>\n",
              "    </tr>\n",
              "  </tbody>\n",
              "</table>\n",
              "<p>593 rows × 2 columns</p>\n",
              "</div>"
            ],
            "text/plain": [
              "        Title  Unemployment rate (aged 16 and over, seasonally adjusted)\n",
              "0    1971 FEB                                                3.8        \n",
              "1    1971 MAR                                                3.9        \n",
              "2    1971 APR                                                4.0        \n",
              "3    1971 MAY                                                4.1        \n",
              "4    1971 JUN                                                4.1        \n",
              "..        ...                                                ...        \n",
              "588  2020 FEB                                                3.9        \n",
              "589  2020 MAR                                                3.9        \n",
              "590  2020 APR                                                3.9        \n",
              "591  2020 MAY                                                3.9        \n",
              "592  2020 JUN                                                4.1        \n",
              "\n",
              "[593 rows x 2 columns]"
            ]
          },
          "metadata": {
            "tags": []
          },
          "execution_count": 12
        }
      ]
    },
    {
      "cell_type": "code",
      "metadata": {
        "id": "4v5lse5Ts__V"
      },
      "source": [
        "#Creating time series in the range of the data and storing them here.\n",
        "#I do this because in the data itself the dates are strings and I cannot graph them\n",
        "time = pd.date_range(start='02-1971', end='06-2020', freq='MS')"
      ],
      "execution_count": null,
      "outputs": []
    },
    {
      "cell_type": "code",
      "metadata": {
        "id": "nRlRdmEHtSew",
        "outputId": "e5f3f149-34ad-420e-b0b4-0b177783b87a",
        "colab": {
          "base_uri": "https://localhost:8080/"
        }
      },
      "source": [
        "#Checking if the time range matches the observed data\n",
        "time"
      ],
      "execution_count": null,
      "outputs": [
        {
          "output_type": "execute_result",
          "data": {
            "text/plain": [
              "DatetimeIndex(['1971-02-01', '1971-03-01', '1971-04-01', '1971-05-01',\n",
              "               '1971-06-01', '1971-07-01', '1971-08-01', '1971-09-01',\n",
              "               '1971-10-01', '1971-11-01',\n",
              "               ...\n",
              "               '2019-09-01', '2019-10-01', '2019-11-01', '2019-12-01',\n",
              "               '2020-01-01', '2020-02-01', '2020-03-01', '2020-04-01',\n",
              "               '2020-05-01', '2020-06-01'],\n",
              "              dtype='datetime64[ns]', length=593, freq='MS')"
            ]
          },
          "metadata": {
            "tags": []
          },
          "execution_count": 40
        }
      ]
    },
    {
      "cell_type": "code",
      "metadata": {
        "id": "glN244kQoey2",
        "outputId": "59687290-a37d-41ba-a35d-2e7a9b19a61a",
        "colab": {
          "base_uri": "https://localhost:8080/",
          "height": 568
        }
      },
      "source": [
        "#Plottingthe graph for unemployment\n",
        "plt.figure(figsize=((16, 9)))\n",
        "plt.plot(time, unemployment['Unemployment rate (aged 16 and over, seasonally adjusted)'])\n",
        "plt.xlabel('Time')\n",
        "plt.ylabel('Unemployment Rate (%)')"
      ],
      "execution_count": null,
      "outputs": [
        {
          "output_type": "execute_result",
          "data": {
            "text/plain": [
              "Text(0, 0.5, 'Unemployment Rate (%)')"
            ]
          },
          "metadata": {
            "tags": []
          },
          "execution_count": 63
        },
        {
          "output_type": "display_data",
          "data": {
            "image/png": "[encoded data removed]",
            "text/plain": [
              "<Figure size 1152x648 with 1 Axes>"
            ]
          },
          "metadata": {
            "tags": [],
            "needs_background": "light"
          }
        }
      ]
    },
    {
      "cell_type": "code",
      "metadata": {
        "id": "_CONJ7pgpm08",
        "outputId": "938395ff-e3e1-4405-d440-637fad682548",
        "colab": {
          "base_uri": "https://localhost:8080/"
        }
      },
      "source": [
        "#Average unemployment and its standard deviation for the whole data\n",
        "#I ended up not using this\n",
        "print(unemployment['Unemployment rate (aged 16 and over, seasonally adjusted)'][-121:].mean(), unemployment['Unemployment rate (aged 16 and over, seasonally adjusted)'][-121:].std())"
      ],
      "execution_count": null,
      "outputs": [
        {
          "output_type": "stream",
          "text": [
            "5.851239669421483 1.669886009207383\n"
          ],
          "name": "stdout"
        }
      ]
    },
    {
      "cell_type": "code",
      "metadata": {
        "id": "RGJnDlB9qaAh",
        "outputId": "06281ab1-ecae-4349-bd43-a8a9492c7a90",
        "colab": {
          "base_uri": "https://localhost:8080/"
        }
      },
      "source": [
        "#Average unemployment and the standard deviation during the pandemic\n",
        "print(unemployment['Unemployment rate (aged 16 and over, seasonally adjusted)'][-5:].mean(), \n",
        "unemployment['Unemployment rate (aged 16 and over, seasonally adjusted)'][-5:].std())"
      ],
      "execution_count": null,
      "outputs": [
        {
          "output_type": "stream",
          "text": [
            "3.94 0.08944271909999148\n"
          ],
          "name": "stdout"
        }
      ]
    },
    {
      "cell_type": "code",
      "metadata": {
        "id": "RIi6vJXyvQMk",
        "outputId": "55403d3e-3e47-47d2-d7fd-48fb211461dd",
        "colab": {
          "base_uri": "https://localhost:8080/"
        }
      },
      "source": [
        "#Average unemployment and the standard deviation for the year before the pandemic\n",
        "print(unemployment['Unemployment rate (aged 16 and over, seasonally adjusted)'][-17:-5].mean(), \n",
        "unemployment['Unemployment rate (aged 16 and over, seasonally adjusted)'][-17:-5].std())"
      ],
      "execution_count": null,
      "outputs": [
        {
          "output_type": "stream",
          "text": [
            "3.8416666666666663 0.0668557923421522\n"
          ],
          "name": "stdout"
        }
      ]
    },
    {
      "cell_type": "code",
      "metadata": {
        "id": "PTkutWUIv0dP",
        "outputId": "e94ea4e5-1779-4715-d524-a2df33147084",
        "colab": {
          "base_uri": "https://localhost:8080/"
        }
      },
      "source": [
        "#Perfonging a t-test on the data\n",
        "stats.ttest_ind(unemployment['Unemployment rate (aged 16 and over, seasonally adjusted)'][-17:-5], unemployment['Unemployment rate (aged 16 and over, seasonally adjusted)'][-5:])"
      ],
      "execution_count": null,
      "outputs": [
        {
          "output_type": "execute_result",
          "data": {
            "text/plain": [
              "Ttest_indResult(statistic=-2.511358422396106, pvalue=0.023962244564084786)"
            ]
          },
          "metadata": {
            "tags": []
          },
          "execution_count": 72
        }
      ]
    },
    {
      "cell_type": "code",
      "metadata": {
        "id": "iy-dQCnHxc3W"
      },
      "source": [
        "#Loading the gdp data\n",
        "gdp = pd.read_csv('series-071020 (1).csv')"
      ],
      "execution_count": null,
      "outputs": []
    },
    {
      "cell_type": "code",
      "metadata": {
        "id": "ppT4KI9S0Rp8",
        "outputId": "cb158fd2-4b32-4d38-b4ed-018f845d257a",
        "colab": {
          "base_uri": "https://localhost:8080/",
          "height": 419
        }
      },
      "source": [
        "#Vieving the GDP data\n",
        "gdp"
      ],
      "execution_count": null,
      "outputs": [
        {
          "output_type": "execute_result",
          "data": {
            "text/html": [
              "<div>\n",
              "<style scoped>\n",
              "    .dataframe tbody tr th:only-of-type {\n",
              "        vertical-align: middle;\n",
              "    }\n",
              "\n",
              "    .dataframe tbody tr th {\n",
              "        vertical-align: top;\n",
              "    }\n",
              "\n",
              "    .dataframe thead th {\n",
              "        text-align: right;\n",
              "    }\n",
              "</style>\n",
              "<table border=\"1\" class=\"dataframe\">\n",
              "  <thead>\n",
              "    <tr style=\"text-align: right;\">\n",
              "      <th></th>\n",
              "      <th>Title</th>\n",
              "      <th>Gross Domestic Product: chained volume measures: Seasonally adjusted £m</th>\n",
              "    </tr>\n",
              "  </thead>\n",
              "  <tbody>\n",
              "    <tr>\n",
              "      <th>0</th>\n",
              "      <td>1955 Q1</td>\n",
              "      <td>116532</td>\n",
              "    </tr>\n",
              "    <tr>\n",
              "      <th>1</th>\n",
              "      <td>1955 Q2</td>\n",
              "      <td>116637</td>\n",
              "    </tr>\n",
              "    <tr>\n",
              "      <th>2</th>\n",
              "      <td>1955 Q3</td>\n",
              "      <td>118997</td>\n",
              "    </tr>\n",
              "    <tr>\n",
              "      <th>3</th>\n",
              "      <td>1955 Q4</td>\n",
              "      <td>118351</td>\n",
              "    </tr>\n",
              "    <tr>\n",
              "      <th>4</th>\n",
              "      <td>1956 Q1</td>\n",
              "      <td>119735</td>\n",
              "    </tr>\n",
              "    <tr>\n",
              "      <th>...</th>\n",
              "      <td>...</td>\n",
              "      <td>...</td>\n",
              "    </tr>\n",
              "    <tr>\n",
              "      <th>257</th>\n",
              "      <td>2019 Q2</td>\n",
              "      <td>541091</td>\n",
              "    </tr>\n",
              "    <tr>\n",
              "      <th>258</th>\n",
              "      <td>2019 Q3</td>\n",
              "      <td>542854</td>\n",
              "    </tr>\n",
              "    <tr>\n",
              "      <th>259</th>\n",
              "      <td>2019 Q4</td>\n",
              "      <td>543665</td>\n",
              "    </tr>\n",
              "    <tr>\n",
              "      <th>260</th>\n",
              "      <td>2020 Q1</td>\n",
              "      <td>529950</td>\n",
              "    </tr>\n",
              "    <tr>\n",
              "      <th>261</th>\n",
              "      <td>2020 Q2</td>\n",
              "      <td>424962</td>\n",
              "    </tr>\n",
              "  </tbody>\n",
              "</table>\n",
              "<p>262 rows × 2 columns</p>\n",
              "</div>"
            ],
            "text/plain": [
              "       Title  Gross Domestic Product: chained volume measures: Seasonally adjusted £m\n",
              "0    1955 Q1                                             116532                      \n",
              "1    1955 Q2                                             116637                      \n",
              "2    1955 Q3                                             118997                      \n",
              "3    1955 Q4                                             118351                      \n",
              "4    1956 Q1                                             119735                      \n",
              "..       ...                                                ...                      \n",
              "257  2019 Q2                                             541091                      \n",
              "258  2019 Q3                                             542854                      \n",
              "259  2019 Q4                                             543665                      \n",
              "260  2020 Q1                                             529950                      \n",
              "261  2020 Q2                                             424962                      \n",
              "\n",
              "[262 rows x 2 columns]"
            ]
          },
          "metadata": {
            "tags": []
          },
          "execution_count": 74
        }
      ]
    },
    {
      "cell_type": "code",
      "metadata": {
        "id": "qcBgKwa70SY8"
      },
      "source": [
        "#Creating the time rangein quarter years for the GDP \n",
        "gdptime = pd.date_range(start='1955', end='2021', freq='Q')"
      ],
      "execution_count": null,
      "outputs": []
    },
    {
      "cell_type": "code",
      "metadata": {
        "id": "wxTvvf1h1sv5"
      },
      "source": [
        "#Getting rid of the last two quarters in 2020\n",
        "gdptime = gdptime[:262]"
      ],
      "execution_count": null,
      "outputs": []
    },
    {
      "cell_type": "code",
      "metadata": {
        "id": "gyAgCpLP0pw5",
        "outputId": "d64c3622-e625-41bd-c178-ead2f4d7c051",
        "colab": {
          "base_uri": "https://localhost:8080/",
          "height": 566
        }
      },
      "source": [
        "#Plotting the GDP\n",
        "plt.figure(figsize=((16, 9)))\n",
        "plt.plot(gdptime, gdp['Gross Domestic Product: chained volume measures: Seasonally adjusted £m'])\n",
        "plt.xlabel('Time (Quarterly)')\n",
        "plt.ylabel('GDP (Million Pounds)')"
      ],
      "execution_count": null,
      "outputs": [
        {
          "output_type": "execute_result",
          "data": {
            "text/plain": [
              "Text(0, 0.5, 'GDP (Million Pounds)')"
            ]
          },
          "metadata": {
            "tags": []
          },
          "execution_count": 98
        },
        {
          "output_type": "display_data",
          "data": {
            "image/png": "[encoded data removed]",
            "text/plain": [
              "<Figure size 1152x648 with 1 Axes>"
            ]
          },
          "metadata": {
            "tags": [],
            "needs_background": "light"
          }
        }
      ]
    },
    {
      "cell_type": "code",
      "metadata": {
        "id": "qJ6i1SSo2iGJ"
      },
      "source": [
        "#Loading the CPI data\n",
        "cpi = pd.read_csv('cpi.csv')"
      ],
      "execution_count": null,
      "outputs": []
    },
    {
      "cell_type": "code",
      "metadata": {
        "id": "pRnUck6Q8D1w",
        "outputId": "f802ac47-6e92-41ef-d406-1dafb16c8f80",
        "colab": {
          "base_uri": "https://localhost:8080/",
          "height": 452
        }
      },
      "source": [
        "#Viewing the CPI data\n",
        "cpi"
      ],
      "execution_count": null,
      "outputs": [
        {
          "output_type": "execute_result",
          "data": {
            "text/html": [
              "<div>\n",
              "<style scoped>\n",
              "    .dataframe tbody tr th:only-of-type {\n",
              "        vertical-align: middle;\n",
              "    }\n",
              "\n",
              "    .dataframe tbody tr th {\n",
              "        vertical-align: top;\n",
              "    }\n",
              "\n",
              "    .dataframe thead th {\n",
              "        text-align: right;\n",
              "    }\n",
              "</style>\n",
              "<table border=\"1\" class=\"dataframe\">\n",
              "  <thead>\n",
              "    <tr style=\"text-align: right;\">\n",
              "      <th></th>\n",
              "      <th>Date</th>\n",
              "      <th>CPI Index (UK 2015=100)</th>\n",
              "    </tr>\n",
              "  </thead>\n",
              "  <tbody>\n",
              "    <tr>\n",
              "      <th>0</th>\n",
              "      <td>Aug 2019</td>\n",
              "      <td>108.4</td>\n",
              "    </tr>\n",
              "    <tr>\n",
              "      <th>1</th>\n",
              "      <td>Sep 2019</td>\n",
              "      <td>108.5</td>\n",
              "    </tr>\n",
              "    <tr>\n",
              "      <th>2</th>\n",
              "      <td>Oct 2019</td>\n",
              "      <td>108.3</td>\n",
              "    </tr>\n",
              "    <tr>\n",
              "      <th>3</th>\n",
              "      <td>Nov 2019</td>\n",
              "      <td>108.5</td>\n",
              "    </tr>\n",
              "    <tr>\n",
              "      <th>4</th>\n",
              "      <td>Dec 2019</td>\n",
              "      <td>108.5</td>\n",
              "    </tr>\n",
              "    <tr>\n",
              "      <th>5</th>\n",
              "      <td>Jan 2020</td>\n",
              "      <td>108.2</td>\n",
              "    </tr>\n",
              "    <tr>\n",
              "      <th>6</th>\n",
              "      <td>Feb 2020</td>\n",
              "      <td>108.6</td>\n",
              "    </tr>\n",
              "    <tr>\n",
              "      <th>7</th>\n",
              "      <td>Mar 2020</td>\n",
              "      <td>108.6</td>\n",
              "    </tr>\n",
              "    <tr>\n",
              "      <th>8</th>\n",
              "      <td>Apr 2020</td>\n",
              "      <td>108.5</td>\n",
              "    </tr>\n",
              "    <tr>\n",
              "      <th>9</th>\n",
              "      <td>May 2020</td>\n",
              "      <td>108.5</td>\n",
              "    </tr>\n",
              "    <tr>\n",
              "      <th>10</th>\n",
              "      <td>Jun 2020</td>\n",
              "      <td>108.6</td>\n",
              "    </tr>\n",
              "    <tr>\n",
              "      <th>11</th>\n",
              "      <td>Jul 2020</td>\n",
              "      <td>109.1</td>\n",
              "    </tr>\n",
              "    <tr>\n",
              "      <th>12</th>\n",
              "      <td>Aug 2020</td>\n",
              "      <td>108.6</td>\n",
              "    </tr>\n",
              "  </tbody>\n",
              "</table>\n",
              "</div>"
            ],
            "text/plain": [
              "        Date   CPI Index (UK 2015=100)\n",
              "0   Aug 2019                     108.4\n",
              "1   Sep 2019                     108.5\n",
              "2   Oct 2019                     108.3\n",
              "3   Nov 2019                     108.5\n",
              "4   Dec 2019                     108.5\n",
              "5   Jan 2020                     108.2\n",
              "6   Feb 2020                     108.6\n",
              "7   Mar 2020                     108.6\n",
              "8   Apr 2020                     108.5\n",
              "9   May 2020                     108.5\n",
              "10  Jun 2020                     108.6\n",
              "11  Jul 2020                     109.1\n",
              "12  Aug 2020                     108.6"
            ]
          },
          "metadata": {
            "tags": []
          },
          "execution_count": 116
        }
      ]
    },
    {
      "cell_type": "code",
      "metadata": {
        "id": "66SPaYHC9DUu"
      },
      "source": [
        "#Creating the proper time range for the CPI data\n",
        "cpidate = pd.date_range(start='08-2019', end='08-2020', freq='MS')"
      ],
      "execution_count": null,
      "outputs": []
    },
    {
      "cell_type": "code",
      "metadata": {
        "id": "rSFwQvIK9xE6",
        "outputId": "6455808e-65f0-424d-e776-3724cc4ab4d7",
        "colab": {
          "base_uri": "https://localhost:8080/",
          "height": 568
        }
      },
      "source": [
        "#Plotting the CPI data\n",
        "plt.figure(figsize=((16, 9)))\n",
        "plt.plot(cpidate, cpi[' CPI Index (UK 2015=100)'])\n",
        "plt.xlabel('Time (Monthly)')\n",
        "plt.ylabel('CPI Index (UK, 2015=100)')"
      ],
      "execution_count": null,
      "outputs": [
        {
          "output_type": "execute_result",
          "data": {
            "text/plain": [
              "Text(0, 0.5, 'CPI Index (UK, 2015=100)')"
            ]
          },
          "metadata": {
            "tags": []
          },
          "execution_count": 121
        },
        {
          "output_type": "display_data",
          "data": {
            "image/png": "[encoded data removed]",
            "text/plain": [
              "<Figure size 1152x648 with 1 Axes>"
            ]
          },
          "metadata": {
            "tags": [],
            "needs_background": "light"
          }
        }
      ]
    },
    {
      "cell_type": "code",
      "metadata": {
        "id": "_MJUI1HF-W1a",
        "outputId": "9f96fa0a-a14c-42b6-b61a-3fac14b03394",
        "colab": {
          "base_uri": "https://localhost:8080/"
        }
      },
      "source": [
        "#Calculating the drop in the GDP in the last quarter\n",
        "(529950-424962)/529950"
      ],
      "execution_count": null,
      "outputs": [
        {
          "output_type": "execute_result",
          "data": {
            "text/plain": [
              "0.19810925559015002"
            ]
          },
          "metadata": {
            "tags": []
          },
          "execution_count": 122
        }
      ]
    },
    {
      "cell_type": "code",
      "metadata": {
        "id": "a7OZ3blPAZwD"
      },
      "source": [
        ""
      ],
      "execution_count": null,
      "outputs": []
    }
  ]
}